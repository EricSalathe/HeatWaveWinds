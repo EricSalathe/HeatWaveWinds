{
 "cells": [
  {
   "cell_type": "markdown",
   "id": "fb5a32f0",
   "metadata": {},
   "source": [
    "First import a bunch of stuff"
   ]
  },
  {
   "cell_type": "code",
   "execution_count": 1,
   "id": "24df1238",
   "metadata": {},
   "outputs": [],
   "source": [
    "import numpy as np\n",
    "import xarray as xr\n",
    "import warnings\n",
    "import matplotlib.pyplot as plt\n",
    "from WRFplot import WRFplot\n",
    "import cartopy\n"
   ]
  },
  {
   "cell_type": "markdown",
   "id": "ad26675f",
   "metadata": {},
   "source": [
    "Read in data for one model"
   ]
  },
  {
   "cell_type": "code",
   "execution_count": null,
   "id": "7a75f6aa",
   "metadata": {},
   "outputs": [],
   "source": [
    "model = 'miroc5'\n",
    "T2quad_hist = xr.open_dataset(f'T2quad_hist_{model}.nc')\n",
    "T2quad_fut = xr.open_dataset(f'T2quad_fut_{model}.nc')"
   ]
  },
  {
   "cell_type": "markdown",
   "id": "6812a998",
   "metadata": {},
   "source": [
    "Show the variables in this xarray object"
   ]
  },
  {
   "cell_type": "code",
   "execution_count": null,
   "id": "3f35f672",
   "metadata": {},
   "outputs": [],
   "source": [
    "print(T2quad_hist.data_vars)"
   ]
  },
  {
   "cell_type": "markdown",
   "id": "82d89301",
   "metadata": {},
   "source": [
    "Create a plot"
   ]
  },
  {
   "cell_type": "code",
   "execution_count": null,
   "id": "ee21dc77",
   "metadata": {},
   "outputs": [],
   "source": [
    "# Select the wind direction quadrant to plot\n",
    "quadrant = 'NE'  # Options: 'NE', 'SE', 'SW', 'NW'  \n",
    "\n",
    "# Set geographic range for the map\n",
    "lat1, lat2 = 40,49.5  # Southern and northern bounds\n",
    "lon1, lon2 = -124.8,-116.3  # Western and eastern bounds\n",
    "\n",
    "# Fill arrays for plotting a map\n",
    "data = T2quad_hist['T2_' + quadrant] - T2quad_hist['T2_all']\n",
    "lats = T2quad_hist['XLAT']\n",
    "lons = T2quad_hist['XLONG']\n",
    "\n",
    "# Temperature anomaly limits\n",
    "max = 6 # deg-C\n",
    "min= -max # Symetrical colorscale\n",
    "\n",
    "WRFplot(\n",
    "    data,\n",
    "    lats, lons,\n",
    "    min,max,\n",
    "    f'T2 anomaly {quadrant} {model}', '°C', 'RdYlBu_r',\n",
    "    domain='custom', map_limits=[lon1, lon2, lat1, lat2], # specify the map limits\n",
    "    smflg=0, # Smooth the data\n",
    "    subplot=(1, 1, 1), # Position of the subplot in the figure\n",
    ")\n"
   ]
  }
 ],
 "metadata": {
  "kernelspec": {
   "display_name": "Python 3",
   "language": "python",
   "name": "python3"
  },
  "language_info": {
   "codemirror_mode": {
    "name": "ipython",
    "version": 3
   },
   "file_extension": ".py",
   "mimetype": "text/x-python",
   "name": "python",
   "nbconvert_exporter": "python",
   "pygments_lexer": "ipython3",
   "version": "3.12.2"
  }
 },
 "nbformat": 4,
 "nbformat_minor": 5
}
